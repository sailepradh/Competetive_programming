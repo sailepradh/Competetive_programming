{
 "cells": [
  {
   "cell_type": "markdown",
   "metadata": {},
   "source": [
    "#### Question \n",
    "\n",
    "Complete the solution so that it splits the string into pairs of two characters. If the string contains an odd number of characters then it should replace the missing second character of the final pair with an underscore ('_').\n",
    "\n",
    "Examples:\n",
    "\n",
    "```python\n",
    "solution('abc') # should return ['ab', 'c_']\n",
    "solution('abcdef') # should return ['ab', 'cd', 'ef']\n",
    "```"
   ]
  },
  {
   "cell_type": "markdown",
   "metadata": {},
   "source": [
    "Answer: "
   ]
  },
  {
   "cell_type": "code",
   "execution_count": 39,
   "metadata": {},
   "outputs": [
    {
     "data": {
      "text/plain": [
       "['ab', 'cd']"
      ]
     },
     "execution_count": 39,
     "metadata": {},
     "output_type": "execute_result"
    }
   ],
   "source": [
    "def solution(s):\n",
    "    if len(s) % 2 == 0:\n",
    "        word = [s[x:x+2] for x in range (0, len(s),2)]\n",
    "    else:\n",
    "        word = [s[x:x+2] for x in range (0, len(s),2)]\n",
    "        last_index = len(word)\n",
    "        word[last_index-1] = word[-1]+\"_\"\n",
    "    return word\n",
    "\n",
    "solution('abcd') "
   ]
  },
  {
   "cell_type": "markdown",
   "metadata": {},
   "source": [
    "Best Solution"
   ]
  },
  {
   "cell_type": "code",
   "execution_count": 42,
   "metadata": {},
   "outputs": [
    {
     "data": {
      "text/plain": [
       "['ab', 'cd', 'r_']"
      ]
     },
     "execution_count": 42,
     "metadata": {},
     "output_type": "execute_result"
    }
   ],
   "source": [
    "import re\n",
    "\n",
    "def solution(s):\n",
    "    return re.findall(\".{2}\", s + \"_\")\n",
    "\n",
    "def solution(s):\n",
    "    return [(s + \"_\")[i:i + 2] for i in range(0, len(s), 2)]\n",
    "\n",
    "\n",
    "solution('abcdr')"
   ]
  },
  {
   "cell_type": "markdown",
   "metadata": {},
   "source": [
    "__\n",
    "\n",
    "#### Question\n",
    "\n",
    "Create a function that takes a Roman numeral as its argument and returns its value as a numeric decimal integer. You don't need to validate the form of the Roman numeral.\n",
    "\n",
    "Modern Roman numerals are written by expressing each decimal digit of the number to be encoded separately, starting with the leftmost digit and skipping any 0s. So 1990 is rendered \"MCMXC\" (1000 = M, 900 = CM, 90 = XC) and 2008 is rendered \"MMVIII\" (2000 = MM, 8 = VIII). The Roman numeral for 1666, \"MDCLXVI\", uses each letter in descending order.\n",
    "\n",
    "Examples:\n",
    "```python\n",
    "solution('XXI') # should return 21\n",
    "```"
   ]
  },
  {
   "cell_type": "code",
   "execution_count": 154,
   "metadata": {},
   "outputs": [
    {
     "data": {
      "text/plain": [
       "90"
      ]
     },
     "execution_count": 154,
     "metadata": {},
     "output_type": "execute_result"
    }
   ],
   "source": [
    "def solution(roman):\n",
    "    dict = { \"I\" : 1,\n",
    "            \"V\" : 5 , \n",
    "            \"X\" : 10, \n",
    "            \"L\" : 50, \n",
    "            \"C\" : 100, \n",
    "            \"D\" : 500, \n",
    "            \"M\" :  1000\n",
    "           }\n",
    "    intergerlist =  ([dict[roman[i]] for i in range(0, len(roman),1)])\n",
    "    sorted_intergerlist = sorted(intergerlist, reverse=True)\n",
    "    compared = [-i if i < j else i for i, j in zip(intergerlist, sorted_intergerlist)]\n",
    "    return sum(compared)\n",
    "    \n",
    "solution (\"XC\")"
   ]
  },
  {
   "cell_type": "code",
   "execution_count": null,
   "metadata": {},
   "outputs": [],
   "source": [
    "## clever\n",
    "\n",
    "values = [('M', 1000), ('CM', -200), ('D', 500), ('CD', -200),\n",
    "          ('C', 100), ('XC', -20), ('L', 50), ('XL', -20),\n",
    "          ('X', 10), ('IX', -2), ('V', 5), ('IV', -2),\n",
    "          ('I', 1)]\n",
    "def solution(roman):\n",
    "    return sum(roman.count(s)*v for s,v in values)\n"
   ]
  },
  {
   "cell_type": "markdown",
   "metadata": {},
   "source": [
    "#### Question\n",
    "\n",
    "You organize a sports league in a round-robin-system. Each team meets all other teams. In your league a win gives a team 2 points, a draw gives both teams 1 point. After some games you have to compute the order of the teams in your league. You use the following criteria to arrange the teams:\n",
    "\n",
    "    * Points\n",
    "    * Scoring differential (the difference between goals scored and those conceded)\n",
    "    * Goals scored\n",
    "\n",
    "First you sort the teams by their points. If two or more teams reached the same number of points, the second criteria comes into play and so on. Finally, if all criteria are the same, the teams share a place."
   ]
  },
  {
   "cell_type": "code",
   "execution_count": 2,
   "metadata": {},
   "outputs": [],
   "source": [
    "No_teams = 6\n",
    "data = [[0, 5, 2, 2],\n",
    "                 [1, 4, 0, 2],\n",
    "                 [2, 3, 1, 2],\n",
    "                 [1, 5, 2, 2],\n",
    "                 [2, 0, 1, 1],\n",
    "                 [3, 4, 1, 1],\n",
    "                 [2, 5, 0, 2],\n",
    "                 [3, 1, 1, 1],\n",
    "                 [4, 0, 2, 0]]"
   ]
  },
  {
   "cell_type": "code",
   "execution_count": 3,
   "metadata": {},
   "outputs": [
    {
     "data": {
      "text/plain": [
       "{'team0': [0, 0, 0, 1],\n",
       " 'team1': [0, 0, 0, 1],\n",
       " 'team2': [0, 0, 0, 1],\n",
       " 'team3': [0, 0, 0, 1],\n",
       " 'team4': [0, 0, 0, 1],\n",
       " 'team5': [0, 0, 0, 1]}"
      ]
     },
     "execution_count": 3,
     "metadata": {},
     "output_type": "execute_result"
    }
   ],
   "source": [
    "Teams = [str(x) for x in range(0,No_teams)]\n",
    "table = {\"team\"+keys:[0,0,0,1] for keys in Teams}\n",
    "\n",
    "table"
   ]
  },
  {
   "cell_type": "code",
   "execution_count": 4,
   "metadata": {},
   "outputs": [
    {
     "data": {
      "text/plain": [
       "1"
      ]
     },
     "execution_count": 4,
     "metadata": {},
     "output_type": "execute_result"
    }
   ],
   "source": [
    "table[\"team0\"][3]"
   ]
  },
  {
   "cell_type": "code",
   "execution_count": 5,
   "metadata": {},
   "outputs": [],
   "source": [
    "Teams = [str(x) for x in range(0,No_teams)]\n",
    "table = {\"team\"+keys:[0,0,0,1] for keys in Teams}\n",
    "\n",
    "for i in data:\n",
    "    team1 = str(i[0])\n",
    "    team2 = str(i[1])\n",
    "    homeTeam = \"team\"+team1\n",
    "    awayTeam = \"team\"+team2\n",
    "    homescore = int(i[2])\n",
    "    awayscore = int(i[3])\n",
    "    points1 = 0 \n",
    "    points2 = 0 \n",
    "    \n",
    "    if int(homescore) > int(awayscore):\n",
    "        points1 = int(table[homeTeam][2]+2)\n",
    "    elif int(homescore) == int(awayscore): \n",
    "        points1 = int(table[homeTeam][2]+1)\n",
    "    \n",
    "    goalscored = int(table[homeTeam][0] + homescore)\n",
    "    goalconceeded = int(table[homeTeam][1] + awayscore)\n",
    "    table[homeTeam] = [goalscored ,goalconceeded , goalscored-goalconceeded,points1]\n",
    "    \n",
    "    if int(homescore) < int(awayscore):\n",
    "        points2 = int(table[awayTeam][2]+2)\n",
    "    elif int(homescore) == int(awayscore) :\n",
    "        points2 = int(table[awayTeam][2]+1)\n",
    "    \n",
    "    goalscored = int(table[awayTeam][0] +awayscore)\n",
    "    goalconceeded = int(table[awayTeam][1] + homescore)\n",
    "    table[awayTeam] = [goalscored ,goalconceeded ,goalscored-goalconceeded, points2]\n",
    "        "
   ]
  },
  {
   "cell_type": "code",
   "execution_count": 6,
   "metadata": {},
   "outputs": [
    {
     "data": {
      "text/plain": [
       "{'team0': [3, 5, -2, 0],\n",
       " 'team1': [3, 5, -2, -1],\n",
       " 'team2': [2, 5, -3, 0],\n",
       " 'team3': [4, 3, 1, 2],\n",
       " 'team4': [5, 1, 4, 4],\n",
       " 'team5': [6, 4, 2, 2]}"
      ]
     },
     "execution_count": 6,
     "metadata": {},
     "output_type": "execute_result"
    }
   ],
   "source": [
    "table"
   ]
  },
  {
   "cell_type": "code",
   "execution_count": 7,
   "metadata": {},
   "outputs": [
    {
     "ename": "SyntaxError",
     "evalue": "invalid syntax (<ipython-input-7-896dcb90355e>, line 1)",
     "output_type": "error",
     "traceback": [
      "\u001b[0;36m  File \u001b[0;32m\"<ipython-input-7-896dcb90355e>\"\u001b[0;36m, line \u001b[0;32m1\u001b[0m\n\u001b[0;31m    [k: v for k, v in sorted(x.items(), key=lambda item: item[1])]\u001b[0m\n\u001b[0m      ^\u001b[0m\n\u001b[0;31mSyntaxError\u001b[0m\u001b[0;31m:\u001b[0m invalid syntax\n"
     ]
    }
   ],
   "source": [
    "k: v for k, v in sorted(x.items(), key=lambda item: item[1])"
   ]
  },
  {
   "cell_type": "code",
   "execution_count": 9,
   "metadata": {},
   "outputs": [],
   "source": [
    "from scipy.stats import rankdata \n",
    "def compute_ranks(number, games):\n",
    "    Teams = [x for x in range(0,number)]\n",
    "    table = {keys:[(0,0),(0,0)] for keys in Teams}\n",
    "    ranked = {}\n",
    "    \n",
    "    if games == []:\n",
    "        return [1]*number\n",
    "    else:\n",
    "        for i in games:\n",
    "            team1 = i[0]\n",
    "            team2 = i[1]\n",
    "    \n",
    "            homeTeam_score = i[2],i[3]\n",
    "            awayTeam_score = i[3],i[2]\n",
    "    \n",
    "            home = table.get(team1,[])\n",
    "            away = table.get(team2,[])\n",
    "    \n",
    "            home.append(homeTeam_score)\n",
    "            away.append(awayTeam_score)\n",
    "    \n",
    "            table[team1] = home\n",
    "            table [team2] = away\n",
    "    \n",
    "        for k , v in table.items():\n",
    "            rank = []\n",
    "            goal_diff = []\n",
    "            goal_scored = 0\n",
    "            goal_conceded = 0\n",
    "            goal_diff =[]\n",
    "        \n",
    "            for i in v:  \n",
    "                if i[0] > i[1]:\n",
    "                    goal_scored = goal_scored+ int(i[0])\n",
    "                    goal_conceded = goal_conceded+int(i[1])\n",
    "                    rank.append(int(2))\n",
    "                    diff = i[0]-i[1]\n",
    "                    goal_diff.append(diff)\n",
    "                elif i[0] == i[1]:\n",
    "                    goal_scored = goal_scored+ int(i[0])\n",
    "                    goal_conceded = goal_conceded+int(i[1])\n",
    "                    rank.append(int(1))\n",
    "                    diff = i[0]-i[1]\n",
    "                    goal_diff.append(diff)\n",
    "                else:\n",
    "                    goal_scored = goal_scored+ int(i[0])\n",
    "                    goal_conceded = goal_conceded+int(i[1])\n",
    "                    diff = i[0]-i[1]\n",
    "                    goal_diff.append(diff)\n",
    "            sumed =sum(rank)\n",
    "            difference = sum (goal_diff)\n",
    "            score = 10 * sumed + 5* difference + goal_scored*1\n",
    "            ranked [k] = score\n",
    "\n",
    "        values_rank = dict(zip(ranked.values(), rankdata([-i for i in ranked.values()], method='min')))  \n",
    "        ranked_values =  {k:values_rank[v] for k, v in ranked.items()}\n",
    "        return [ranked_values[keys] for keys in sorted(ranked_values.keys())]"
   ]
  },
  {
   "cell_type": "code",
   "execution_count": null,
   "metadata": {},
   "outputs": [],
   "source": []
  }
 ],
 "metadata": {
  "kernelspec": {
   "display_name": "Python 3",
   "language": "python",
   "name": "python3"
  },
  "language_info": {
   "codemirror_mode": {
    "name": "ipython",
    "version": 3
   },
   "file_extension": ".py",
   "mimetype": "text/x-python",
   "name": "python",
   "nbconvert_exporter": "python",
   "pygments_lexer": "ipython3",
   "version": "3.7.1"
  }
 },
 "nbformat": 4,
 "nbformat_minor": 2
}

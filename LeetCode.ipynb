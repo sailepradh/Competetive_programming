{
 "cells": [
  {
   "cell_type": "markdown",
   "metadata": {},
   "source": [
    "#### Two Numbers\n",
    "\n",
    "Given an array of integers, return indices of the two numbers such that they add up to a specific target.\n",
    "\n",
    "You may assume that each input would have exactly one solution, and you may not use the same element twice.\n",
    "\n",
    "Example:\n",
    "```\n",
    "Given nums = [2, 7, 11, 15], target = 9,\n",
    "\n",
    "Because nums[0] + nums[1] = 2 + 7 = 9,\n",
    "return [0, 1].\n",
    "\n",
    "```"
   ]
  },
  {
   "cell_type": "markdown",
   "metadata": {},
   "source": [
    "#### Solution:1"
   ]
  },
  {
   "cell_type": "code",
   "execution_count": 19,
   "metadata": {},
   "outputs": [
    {
     "name": "stdout",
     "output_type": "stream",
     "text": [
      "[1, 2]\n",
      "--- 0.014303922653198242 seconds ---\n"
     ]
    }
   ],
   "source": [
    "import time\n",
    "start_time = time.time()\n",
    "\n",
    "class Solution:\n",
    "    def twoSum(self,nums, target):\n",
    "        \n",
    "        seen = {}\n",
    "        for index, num in enumerate(nums):\n",
    "            other = target - num\n",
    "            \n",
    "            if other in seen:\n",
    "                return [seen[other], index]\n",
    "            else:\n",
    "                seen[num] = index\n",
    "                \n",
    "        return []\n",
    "\n",
    "if __name__ == '__main__':\n",
    "    # begin\n",
    "    s = Solution()\n",
    "    print (s.twoSum([3, 2, 4], 6))\n",
    "    print(\"--- %s seconds ---\" % (time.time() - start_time))"
   ]
  },
  {
   "cell_type": "markdown",
   "metadata": {},
   "source": [
    "Algorithm Complexity O(n): Runtime 44ms\n"
   ]
  },
  {
   "cell_type": "markdown",
   "metadata": {},
   "source": [
    "#### Solution: 2"
   ]
  },
  {
   "cell_type": "code",
   "execution_count": 20,
   "metadata": {},
   "outputs": [
    {
     "name": "stdout",
     "output_type": "stream",
     "text": [
      "[1, 2]\n",
      "--- 0.0002779960632324219 seconds ---\n"
     ]
    }
   ],
   "source": [
    "import time\n",
    "start_time = time.time()\n",
    "\n",
    "class Solution:\n",
    "    def twoSum(self,nums, target):\n",
    "        complement = {}\n",
    "        \n",
    "        for i in range(len(nums)):\n",
    "            selnum = nums[i]\n",
    "            comp_num = target - selnum\n",
    "            \n",
    "            if selnum in complement:\n",
    "                return [complement[selnum],i]\n",
    "            else:\n",
    "                complement[comp_num] = i\n",
    "                \n",
    "\n",
    "if __name__ == '__main__':\n",
    "    # begin\n",
    "    s = Solution()\n",
    "    print (s.twoSum([3, 2, 4], 6))\n",
    "    print(\"--- %s seconds ---\" % (time.time() - start_time))"
   ]
  },
  {
   "cell_type": "markdown",
   "metadata": {},
   "source": [
    "Algorithm Complexity O(n): Runtime 48ms"
   ]
  },
  {
   "cell_type": "markdown",
   "metadata": {},
   "source": [
    "#### Solution: 3"
   ]
  },
  {
   "cell_type": "code",
   "execution_count": 21,
   "metadata": {},
   "outputs": [
    {
     "name": "stdout",
     "output_type": "stream",
     "text": [
      "[1, 2]\n",
      "--- 0.0012028217315673828 seconds ---\n"
     ]
    }
   ],
   "source": [
    "import time\n",
    "start_time = time.time()\n",
    "\n",
    "\n",
    "class Solution:\n",
    "    def twoSum(self,nums, target):\n",
    "        nums_index = [(v, index) for index, v in enumerate(nums)]\n",
    "        nums_index.sort()\n",
    "        begin, end = 0, len(nums) - 1\n",
    "        while begin < end:\n",
    "            curr = nums_index[begin][0] + nums_index[end][0]\n",
    "            if curr == target:\n",
    "                return [nums_index[begin][1], nums_index[end][1]]\n",
    "            elif curr < target:\n",
    "                begin += 1\n",
    "            else:\n",
    "                end -= 1\n",
    "\n",
    "if __name__ == '__main__':\n",
    "    # begin\n",
    "    s = Solution()\n",
    "    print (s.twoSum([3, 2, 4], 6))\n",
    "    print(\"--- %s seconds ---\" % (time.time() - start_time))"
   ]
  },
  {
   "cell_type": "code",
   "execution_count": null,
   "metadata": {},
   "outputs": [],
   "source": [
    "Algorithm Complexity O(n): Runtime 58ms"
   ]
  }
 ],
 "metadata": {
  "kernelspec": {
   "display_name": "Python 3",
   "language": "python",
   "name": "python3"
  },
  "language_info": {
   "codemirror_mode": {
    "name": "ipython",
    "version": 3
   },
   "file_extension": ".py",
   "mimetype": "text/x-python",
   "name": "python",
   "nbconvert_exporter": "python",
   "pygments_lexer": "ipython3",
   "version": "3.7.1"
  }
 },
 "nbformat": 4,
 "nbformat_minor": 2
}
